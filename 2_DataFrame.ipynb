{
  "nbformat": 4,
  "nbformat_minor": 0,
  "metadata": {
    "colab": {
      "provenance": [],
      "include_colab_link": true
    },
    "kernelspec": {
      "name": "python3",
      "display_name": "Python 3"
    },
    "language_info": {
      "name": "python"
    }
  },
  "cells": [
    {
      "cell_type": "markdown",
      "metadata": {
        "id": "view-in-github",
        "colab_type": "text"
      },
      "source": [
        "<a href=\"https://colab.research.google.com/github/adorable827/Data_Analysis/blob/main/2_DataFrame.ipynb\" target=\"_parent\"><img src=\"https://colab.research.google.com/assets/colab-badge.svg\" alt=\"Open In Colab\"/></a>"
      ]
    },
    {
      "cell_type": "markdown",
      "source": [
        "👀 🐾 <font color = 'red'> **Data frame** </font>\n",
        "\n",
        "|Index Name/label | column 0| column 1 | column 2 | ...| column n |\n",
        "|:|-|-|-|-|-|\n",
        "|index 0 | data 0 | data 0 | data 0 | ... | data 0 |\n",
        "|index 1 | data 1 | data 1 | data 1 | ... | data 1 |\n",
        "|index 2 | data 2 | data 2 | data 2 | ... | data 2 |\n",
        "|index 3 | data 3 | data 3 | data 3 | ... | data 3 |\n",
        "| . | . | . | . | . | . |\n",
        "| . | . | . | . | . | . |\n",
        "| . | . | . | . | . | . |\n",
        "|index n | data n | data n | data n | ... | data n |\n",
        "|| series 0 | series 1 | series 2 | ... | series n |\n",
        "\n",
        ">\n",
        "\n",
        "- series : column vector\n",
        "- data frame: 2-plane vector or matrix\n",
        "\n",
        ">\n",
        "\n",
        "<font color = 'blue'>👀 🐾 **An example of data frame**\n",
        "\n",
        "Table on p.12 of the textbook\n",
        "\n",
        "|종목코드 | 회사이름| 액면가 | 총주식수 |\n",
        "|:|-|-|-|\n",
        "|005930 | 삼성전자 | 100원 | 5,970,000,000 |\n",
        "|017670 | SK텔레콤 | 500원 | 81,000,000 |\n",
        "|1005380 | 현대자동차 | 5000원 | 214,000,000 |\n",
        "\n"
      ],
      "metadata": {
        "id": "HhxjKRzMymn3"
      }
    },
    {
      "cell_type": "code",
      "source": [
        "#@markdown <font color = 'red'> **🐹 Student Activity 1 ⤵️**\n",
        "\n",
        "#@markdown <font color = 'blue'> **dictionary ➡️ data frame, shape (3,5) 3행 5열**\n",
        "\n",
        "#-*- coding: urf-8 -*-\n",
        "\n",
        "# dictionary data with column name as key & list as value\n",
        "\n",
        "import pandas as pd\n",
        "dict_data = {'c0':[1,2,3], 'c1':[4,5,6], 'c2':[7,8,9], 'c3':[10,11,12], 'c4':[13,14,15]}\n",
        "\n",
        "#함수로 dict_data 변수 내용을 데이터프레임으로 변환. 변수 df에 할당\n",
        "df = pd.DataFrame(dict_data)\n",
        "\n",
        "print(type(df))\n",
        "print('\\n')\n",
        "print(df)\n"
      ],
      "metadata": {
        "colab": {
          "base_uri": "https://localhost:8080/"
        },
        "id": "KSy0Rz6byu99",
        "outputId": "619455e0-ce9b-435c-d8e3-047a0941b72c"
      },
      "execution_count": null,
      "outputs": [
        {
          "output_type": "stream",
          "name": "stdout",
          "text": [
            "<class 'pandas.core.frame.DataFrame'>\n",
            "\n",
            "\n",
            "   c0  c1  c2  c3  c4\n",
            "0   1   4   7  10  13\n",
            "1   2   5   8  11  14\n",
            "2   3   6   9  12  15\n"
          ]
        }
      ]
    },
    {
      "cell_type": "code",
      "source": [
        "#@markdown <font color = 'red'> **🐹 Student Activity 1 ⤵️**\n",
        "\n",
        "#@markdown <font color = 'blue'> **dictionary ➡️ data frame, shape (3,5) 3행 5열 with Index Names**\n",
        "\n",
        "#-*- coding: urf-8 -*-\n",
        "\n",
        "# dictionary data with column name as key & list as value\n",
        "\n",
        "import pandas as pd\n",
        "dict_data = {'c0':[1,2,3], 'c1':[4,5,6], 'c2':[7,8,9], 'c3':[10,11,12], 'c4':[13,14,15]}\n",
        "\n",
        "#함수로 dict_data 변수 내용을 데이터프레임으로 변환. 변수 df에 할당\n",
        "df = pd.DataFrame(dict_data, index=['item1','item2','item3'])\n",
        "\n",
        "print(type(df))\n",
        "print('\\n')\n",
        "print(df)"
      ],
      "metadata": {
        "id": "TfSC1ikpWawO",
        "outputId": "6936ba6f-70c5-42fc-ec02-8003536dbfd7",
        "colab": {
          "base_uri": "https://localhost:8080/"
        }
      },
      "execution_count": null,
      "outputs": [
        {
          "output_type": "stream",
          "name": "stdout",
          "text": [
            "<class 'pandas.core.frame.DataFrame'>\n",
            "\n",
            "\n",
            "       c0  c1  c2  c3  c4\n",
            "item1   1   4   7  10  13\n",
            "item2   2   5   8  11  14\n",
            "item3   3   6   9  12  15\n"
          ]
        }
      ]
    },
    {
      "cell_type": "markdown",
      "source": [
        "👀 🐾 **Give names of row index & coumn name**"
      ],
      "metadata": {
        "id": "Ole8Rw5-7VHQ"
      }
    },
    {
      "cell_type": "code",
      "source": [
        "#@markdown <font color = 'red'> **🐹 Student Activity 2 ⤵️**\n",
        "\n",
        "#@markdown <font color = 'blue'> **행 인덱스/ 열 이름 지정하여 데이터 프레임으로 만들기**\n",
        "\n",
        "#-*- coding: urf-8 -*-\n",
        "\n",
        "import pandas as pd\n",
        "\n",
        "tuple_data = ([15, 'Male', 'Public'], [17, 'Female', 'Priviate'])\n",
        "\n",
        "df = pd.DataFrame(tuple_data, index = ['Simon', 'Emma'],\n",
        "              columns = ['Age', 'Gender', 'School'])\n",
        "\n",
        "print(type(df))\n",
        "print('\\n')\n",
        "print(df)\n",
        "print('\\n')\n",
        "print(df.index)\n",
        "print('\\n')\n",
        "print(df.columns)"
      ],
      "metadata": {
        "id": "3mCeh2bG7wwk",
        "outputId": "242d0830-68c1-409a-d426-fc013386163c",
        "colab": {
          "base_uri": "https://localhost:8080/"
        }
      },
      "execution_count": null,
      "outputs": [
        {
          "output_type": "stream",
          "name": "stdout",
          "text": [
            "<class 'pandas.core.frame.DataFrame'>\n",
            "\n",
            "\n",
            "       Age  Gender    School\n",
            "Simon   15    Male    Public\n",
            "Emma    17  Female  Priviate\n",
            "\n",
            "\n",
            "Index(['Simon', 'Emma'], dtype='object')\n",
            "\n",
            "\n",
            "Index(['Age', 'Gender', 'School'], dtype='object')\n"
          ]
        }
      ]
    },
    {
      "cell_type": "code",
      "source": [
        "#@markdown <font color = 'red'> **🐹 Student Activity 3 ⤵️**\n",
        "\n",
        "#@markdown <font color = 'blue'>위 코드셀 행 인덱스 (row index)를 ['Student 1', 'Student 2']로 변경하고, 열 이름 (column name)을 ['Number of Years', 'M/F', 'Affiliation'] 으로 변경\n",
        "\n",
        "#@markdown Purpose: 🌼 Add some variaions!\n",
        "\n",
        "#@markdown - new index names 는 새로 지정\n",
        "\n",
        "\n",
        "import pandas as pd\n",
        "\n",
        "tuple_data = ([15, 'Male', 'Public'], [17, 'Female', 'Priviate'])\n",
        "\n",
        "df = pd.DataFrame(tuple_data, index = ['Simon', 'Emma'],\n",
        "              columns = ['Age', 'Gender', 'School'])\n",
        "\n",
        "df.index = ['Student 1', 'Student 2']\n",
        "\n",
        "df.columns = ['Number of Years', 'M/F', 'Affiliation']\n",
        "\n",
        "#UserWarning: Pandas doesn't allow columns to be created via a new attribute name. If you miss 'inplace=True argument, you will end up with old column names.\n",
        "#df.rename(columns={'Age':'Number of Years', 'Gender':'M/F', 'School':'Affiliation'}, inplace = True)\n",
        "\n",
        "print(type(df))\n",
        "print('\\n')\n",
        "print(df)\n",
        "\n"
      ],
      "metadata": {
        "id": "Wf6omO_x-Uin",
        "outputId": "75fc6cbb-b203-4317-b4de-7e06e0783b87",
        "colab": {
          "base_uri": "https://localhost:8080/"
        }
      },
      "execution_count": null,
      "outputs": [
        {
          "output_type": "stream",
          "name": "stdout",
          "text": [
            "<class 'pandas.core.frame.DataFrame'>\n",
            "\n",
            "\n",
            "           Number of Years     M/F Affiliation\n",
            "Student 1               15    Male      Public\n",
            "Student 2               17  Female    Priviate\n"
          ]
        }
      ]
    },
    {
      "cell_type": "code",
      "source": [
        "import pandas as pd\n",
        "\n",
        "tuple_data = ([36, 'Male', 'Public'], [35, 'Male', 'Priviate'])\n",
        "\n",
        "df = pd.DataFrame(tuple_data, index = ['Dujun', 'Yoseop'],\n",
        "              columns = ['Age', 'Gender', 'School'])\n",
        "\n",
        "df.rename(index = {'Dujun':'Student1', 'Yoseop':'Student 2'}, inplace = True)\n",
        "\n",
        "df.rename(columns = {'Age':'Number of Years', 'Gender':'M/F', 'School':'Affiliation'}, inplace = True)\n",
        "\n",
        "print(df)"
      ],
      "metadata": {
        "id": "So_ERU8zNkbb",
        "outputId": "d6a0a126-0446-4bd5-f90b-dfb0e14bcde4",
        "colab": {
          "base_uri": "https://localhost:8080/"
        }
      },
      "execution_count": null,
      "outputs": [
        {
          "output_type": "stream",
          "name": "stdout",
          "text": [
            "           Number of Years   M/F Affiliation\n",
            "Student1                36  Male      Public\n",
            "Student 2               35  Male    Priviate\n"
          ]
        }
      ]
    },
    {
      "cell_type": "code",
      "source": [
        "#@markdown <font color = 'red'> **🐹 Student Activity 3_1 ⤵️**\n",
        "\n",
        "#@markdown <font color = 'blue'> **Instead of giving new names for the rows and columns directly, try to use 'rename()' function!**\n",
        "\n",
        "#@markdown - When new names are given to index names and column names, rename() function can be used.\n",
        "\n",
        "import pandas as pd\n",
        "\n",
        "tuple_data = ([15, 'Male', 'Public'], [17, 'Female', 'Priviate'])\n",
        "\n",
        "df = pd.DataFrame(tuple_data, index = ['Simon', 'Emma'],\n",
        "              columns = ['Age', 'Gender', 'School'])\n",
        "\n",
        "df.rename(index = {'Simon':'Student1', 'Emma':'Student 2'}, inplace = True)\n",
        "\n",
        "df.rename(columns = {'Age':'Number of Years', 'Gender':'M/F', 'School':'Affiliation'}, inplace = True)\n",
        "\n",
        "#UserWarning1: The textbook says Pandas doesn't allow columns to be created via a new attribute name, but it wasn't true.\n",
        "\n",
        "#UserWarning2: If you miss 'inplace=True argument, you will end up with old column names.\n",
        "\n",
        "print(type(df))\n",
        "print('\\n')\n",
        "print(df)"
      ],
      "metadata": {
        "id": "BCqSNiut8cvP",
        "outputId": "f47a26f1-d018-4136-a88a-68f4f5e49265",
        "colab": {
          "base_uri": "https://localhost:8080/"
        }
      },
      "execution_count": null,
      "outputs": [
        {
          "output_type": "stream",
          "name": "stdout",
          "text": [
            "<class 'pandas.core.frame.DataFrame'>\n",
            "\n",
            "\n",
            "           Number of Years     M/F Affiliation\n",
            "Student1                15    Male      Public\n",
            "Student 2               17  Female    Priviate\n"
          ]
        }
      ]
    },
    {
      "cell_type": "code",
      "source": [
        "import pandas as pd\n",
        "\n",
        "tuple_data = ([36, 'Male', 'Public'], [35, 'Male', 'Priviate'])\n",
        "\n",
        "df = pd.DataFrame(tuple_data, index = ['Dujun', 'Yoseop'],\n",
        "              columns = ['Age', 'Gender', 'School'])\n",
        "\n",
        "df.rename(index = {'Dujun':'St1', 'Yoseop':'St2'})\n",
        "df.rename(columns = {'Age':'Number of Years', 'Gender':'M/F', 'School':'Affiliation'})\n",
        "\n",
        "print(df)"
      ],
      "metadata": {
        "id": "BAWC4WbmPT_X",
        "outputId": "6297359e-15f6-44ee-e52f-013ebce8fd6c",
        "colab": {
          "base_uri": "https://localhost:8080/"
        }
      },
      "execution_count": null,
      "outputs": [
        {
          "output_type": "stream",
          "name": "stdout",
          "text": [
            "        Age Gender    School\n",
            "Dujun    36   Male    Public\n",
            "Yoseop   35   Male  Priviate\n"
          ]
        }
      ]
    },
    {
      "cell_type": "code",
      "source": [
        "#@markdown <font color = 'red'> **🐹 Student Activity 3_2 ⤵️**\n",
        "\n",
        "#@markdown <font color = 'blue'> **💊 If you miss 'inplace=True argument of pd.rename() function for the immediate application of the operation, you will end up with old row/column names.**\n",
        "\n",
        "import pandas as pd\n",
        "\n",
        "tuple_data = ([15, 'Male', 'Public'], [17, 'Female', 'Priviate'])\n",
        "\n",
        "df = pd.DataFrame(tuple_data, index = ['Simon', 'Emma'],\n",
        "              columns = ['Age', 'Gender', 'School'])\n",
        "\n",
        "df.rename(index = {'Simon':'Student1', 'Emma':'Student 2'})\n",
        "\n",
        "df.rename(columns = {'Age':'Number of Years', 'Gender':'M/F', 'School':'Affiliation'})\n",
        "\n",
        "\n",
        "print(type(df))\n",
        "print('\\n')\n",
        "print(df)"
      ],
      "metadata": {
        "id": "Pc_Q-FY2-Cdf",
        "outputId": "7356a772-3b39-4219-8684-7a9b6ca28570",
        "colab": {
          "base_uri": "https://localhost:8080/"
        }
      },
      "execution_count": null,
      "outputs": [
        {
          "output_type": "stream",
          "name": "stdout",
          "text": [
            "<class 'pandas.core.frame.DataFrame'>\n",
            "\n",
            "\n",
            "       Age  Gender    School\n",
            "Simon   15    Male    Public\n",
            "Emma    17  Female  Priviate\n"
          ]
        }
      ]
    },
    {
      "cell_type": "markdown",
      "source": [
        "<font color = 'blue'>👀 🐾 **Dropping rows & colums**"
      ],
      "metadata": {
        "id": "J8FhLIJoGyOP"
      }
    },
    {
      "cell_type": "code",
      "source": [
        "import pandas as pd\n",
        "\n",
        "exam_data = {'Math' : [90, 80, 70], 'English' : [98, 89, 95],\n",
        "             'Music' : [85, 95, 100], 'Gym' : [100, 90, 90]}\n",
        "df = pd.DataFrame(exam_data, index = ['Dujun', 'Yoseop', 'Light'])\n",
        "print(df)\n",
        "print('\\n')\n",
        "df2 = df[:]\n",
        "df2.drop('Dujun', axis=0, inplace = True)\n",
        "print(df2)"
      ],
      "metadata": {
        "id": "BIlt_dzXTSp2",
        "outputId": "ea9fd4fe-5871-403a-e38a-b15304db0e23",
        "colab": {
          "base_uri": "https://localhost:8080/"
        }
      },
      "execution_count": null,
      "outputs": [
        {
          "output_type": "stream",
          "name": "stdout",
          "text": [
            "        Math  English  Music  Gym\n",
            "Dujun     90       98     85  100\n",
            "Yoseop    80       89     95   90\n",
            "Light     70       95    100   90\n",
            "\n",
            "\n",
            "        Math  English  Music  Gym\n",
            "Yoseop    80       89     95   90\n",
            "Light     70       95    100   90\n"
          ]
        },
        {
          "output_type": "stream",
          "name": "stderr",
          "text": [
            "<ipython-input-6-860ef48b09f4>:9: SettingWithCopyWarning: \n",
            "A value is trying to be set on a copy of a slice from a DataFrame\n",
            "\n",
            "See the caveats in the documentation: https://pandas.pydata.org/pandas-docs/stable/user_guide/indexing.html#returning-a-view-versus-a-copy\n",
            "  df2.drop('Dujun', axis=0, inplace = True)\n"
          ]
        }
      ]
    },
    {
      "cell_type": "code",
      "source": [
        "import pandas as pd\n",
        "\n",
        "exam_data = {'Math':[90, 80, 70], 'English':[98, 89, 95],\n",
        "             'Music':[85, 95, 100], 'Gym':[100,90,90]}\n",
        "\n",
        "df = pd.DataFrame(exam_data, index = ['Dujun', 'Yoseop', 'Light'])\n",
        "\n",
        "print(df)\n",
        "print('\\n')\n",
        "\n",
        "df2 = df[:]\n",
        "\n",
        "df2.drop('Dujun', axis=0, inplace = True)\n",
        "\n",
        "print(df2)\n",
        "print('\\n')"
      ],
      "metadata": {
        "id": "ot8rxT0DQ1lp",
        "outputId": "6f88af31-820c-495d-868a-9b03906e1aaa",
        "colab": {
          "base_uri": "https://localhost:8080/"
        }
      },
      "execution_count": null,
      "outputs": [
        {
          "output_type": "stream",
          "name": "stdout",
          "text": [
            "        Math  English  Music  Gym\n",
            "Dujun     90       98     85  100\n",
            "Yoseop    80       89     95   90\n",
            "Light     70       95    100   90\n",
            "\n",
            "\n",
            "        Math  English  Music  Gym\n",
            "Yoseop    80       89     95   90\n",
            "Light     70       95    100   90\n",
            "\n",
            "\n"
          ]
        },
        {
          "output_type": "stream",
          "name": "stderr",
          "text": [
            "<ipython-input-3-beeeebcd6aaa>:13: SettingWithCopyWarning: \n",
            "A value is trying to be set on a copy of a slice from a DataFrame\n",
            "\n",
            "See the caveats in the documentation: https://pandas.pydata.org/pandas-docs/stable/user_guide/indexing.html#returning-a-view-versus-a-copy\n",
            "  df2.drop('Dujun', axis=0, inplace = True)\n"
          ]
        }
      ]
    },
    {
      "cell_type": "code",
      "source": [
        "import pandas as pd\n",
        "\n",
        "exam_data = {'Math' : [100, 100, 100], 'English' : [100, 100, 100],\n",
        "             'Music' : [100, 100, 100], 'Gym' : [100, 100, 90]}\n",
        "\n",
        "df = pd.DataFrame(exam_data, index = ['Dujun', 'Yoseop', 'Light'])\n",
        "\n",
        "print(df)\n",
        "\n",
        "df2 = df[:]\n",
        "df2.drop('Gym', axis = 1, inplace = True)\n",
        "\n",
        "print(df2)\n",
        "print('\\n')"
      ],
      "metadata": {
        "id": "ClsR_s-yUuTT",
        "outputId": "64d617e0-90d4-4f4d-c354-79eea2e7fc53",
        "colab": {
          "base_uri": "https://localhost:8080/"
        }
      },
      "execution_count": null,
      "outputs": [
        {
          "output_type": "stream",
          "name": "stdout",
          "text": [
            "        Math  English  Music  Gym\n",
            "Dujun    100      100    100  100\n",
            "Yoseop   100      100    100  100\n",
            "Light    100      100    100   90\n",
            "        Math  English  Music\n",
            "Dujun    100      100    100\n",
            "Yoseop   100      100    100\n",
            "Light    100      100    100\n",
            "\n",
            "\n"
          ]
        },
        {
          "output_type": "stream",
          "name": "stderr",
          "text": [
            "<ipython-input-15-d5c49201bfa5>:11: SettingWithCopyWarning: \n",
            "A value is trying to be set on a copy of a slice from a DataFrame\n",
            "\n",
            "See the caveats in the documentation: https://pandas.pydata.org/pandas-docs/stable/user_guide/indexing.html#returning-a-view-versus-a-copy\n",
            "  df2.drop('Gym', axis = 1, inplace = True)\n"
          ]
        }
      ]
    },
    {
      "cell_type": "code",
      "source": [
        "#@markdown <font color = 'red'> **🐹 Student Activity 4 ⤵️**\n",
        "\n",
        "#@markdown <font color = 'blue'> **Dropping rows 행 삭제**\n",
        "\n",
        "import pandas as pd\n",
        "\n",
        "exam_data = {'Math':[90, 80, 70], 'English':[98, 89, 95],\n",
        "             'Music':[85, 95, 100], 'Gym':[100,90,90]}\n",
        "\n",
        "df = pd.DataFrame(exam_data, index = ['Simon', 'Emma', 'Mary'])\n",
        "\n",
        "print(df)\n",
        "print('\\n')\n",
        "\n",
        "df2 = df[:]\n",
        "\n",
        "# axis=0 for dropping \"rows\" (cf., axis=1 for dopping columns)\n",
        "df2.drop('Emma', axis=0, inplace = True)\n",
        "\n",
        "print(df2)\n",
        "print('\\n')"
      ],
      "metadata": {
        "id": "0iqCoSQZEB4I",
        "outputId": "7ff4c631-f4b4-428e-a8d3-fe21216dbdbe",
        "colab": {
          "base_uri": "https://localhost:8080/"
        }
      },
      "execution_count": null,
      "outputs": [
        {
          "output_type": "stream",
          "name": "stdout",
          "text": [
            "       Math  English  Music  Gym\n",
            "Simon    90       98     85  100\n",
            "Emma     80       89     95   90\n",
            "Mary     70       95    100   90\n",
            "\n",
            "\n",
            "       Math  English  Music  Gym\n",
            "Simon    90       98     85  100\n",
            "Mary     70       95    100   90\n",
            "\n",
            "\n"
          ]
        },
        {
          "output_type": "stream",
          "name": "stderr",
          "text": [
            "<ipython-input-16-4721aa9579e3>:16: SettingWithCopyWarning: \n",
            "A value is trying to be set on a copy of a slice from a DataFrame\n",
            "\n",
            "See the caveats in the documentation: https://pandas.pydata.org/pandas-docs/stable/user_guide/indexing.html#returning-a-view-versus-a-copy\n",
            "  df2.drop('Emma', axis=0, inplace = True) # axis=0 for dropping \"rows\" (cf., axis=1 for dopping columns)\n"
          ]
        }
      ]
    },
    {
      "cell_type": "code",
      "source": [
        "#@markdown <font color = 'red'> **🐹 Student Activity 4 ⤵️**\n",
        "\n",
        "#@markdown <font color = 'blue'> **Dropping columns 열 삭제**\n",
        "import pandas as pd\n",
        "\n",
        "exam_data = {'Math':[90, 80, 70], 'English':[98, 89, 95],\n",
        "             'Music':[85, 95, 100], 'Gym':[100,90,90]}\n",
        "\n",
        "df = pd.DataFrame(exam_data, index = ['Simon', 'Emma', 'Mary'])\n",
        "\n",
        "print(df)\n",
        "print('\\n')\n",
        "\n",
        "df2 = df[:]\n",
        "\n",
        "# axis=1 for dropping columns\n",
        "df2.drop('Gym', axis=1, inplace=True)\n",
        "\n",
        "print(df2)"
      ],
      "metadata": {
        "id": "3gakU7shGM-e",
        "outputId": "ea48bdf2-0b13-4068-a922-7976d1ecedcb",
        "colab": {
          "base_uri": "https://localhost:8080/"
        }
      },
      "execution_count": null,
      "outputs": [
        {
          "output_type": "stream",
          "name": "stdout",
          "text": [
            "       Math  English  Music  Gym\n",
            "Simon    90       98     85  100\n",
            "Emma     80       89     95   90\n",
            "Mary     70       95    100   90\n",
            "\n",
            "\n",
            "       Math  English  Music\n",
            "Simon    90       98     85\n",
            "Emma     80       89     95\n",
            "Mary     70       95    100\n"
          ]
        },
        {
          "output_type": "stream",
          "name": "stderr",
          "text": [
            "<ipython-input-17-227bb8f723a7>:15: SettingWithCopyWarning: \n",
            "A value is trying to be set on a copy of a slice from a DataFrame\n",
            "\n",
            "See the caveats in the documentation: https://pandas.pydata.org/pandas-docs/stable/user_guide/indexing.html#returning-a-view-versus-a-copy\n",
            "  df2.drop('Gym', axis=1, inplace=True) # axis=1 for dropping columns\n"
          ]
        }
      ]
    },
    {
      "cell_type": "markdown",
      "source": [
        "#<font color = 'red'> **loc[ ], iloc[ ]**\n",
        ">\n",
        "* 인덱스 이름(index name) 기준으로 선택할 때는 loc[] 사용\n",
        "* 정수형 위치(integer position) 인덱스를 사용할 때는 iloc[] 사용\n",
        "\n",
        ">\n",
        "\n",
        "| 구분 | loc[ ] | iloc[ ] |\n",
        "|:|-|-|\n",
        "|탐색대상|인덱스 이름 index label/name| 정수형 위치 인덱스 (integer position)|\n",
        "|범위지정 예시|loc['a':'c'] ➡️ 'a', 'b', 'c'|iloc[3:7] ➡️  3,4,5,6|\n",
        "\n",
        "#숫자는 :뒤에 포함이 안 되고 문자는 :뒤도 포함이 된다"
      ],
      "metadata": {
        "id": "DaZaTy2SH_tX"
      }
    },
    {
      "cell_type": "code",
      "source": [
        "import pandas as pd\n",
        "\n",
        "exam_data = {'Math':[90, 80, 70], 'English':[98, 89, 95],\n",
        "             'Music':[85, 95, 100], 'Gym':[100,90,90]}\n",
        "\n",
        "df1 = pd.DataFrame(exam_data)\n",
        "print(df1)\n",
        "print('\\n')\n",
        "\n",
        "df = pd.DataFrame(exam_data, index = ['Dujun', 'Yoseop', 'Light'])\n",
        "\n",
        "print(df)\n",
        "print('\\n')\n",
        "\n",
        "integer_position1 = df.iloc[0]\n",
        "print('\\n')\n",
        "print(interger_position1)\n",
        "\n"
      ],
      "metadata": {
        "id": "Aw5DyamvXnOA",
        "outputId": "eced6a0c-19ad-4a7d-8b13-fc3c21f7bb23",
        "colab": {
          "base_uri": "https://localhost:8080/",
          "height": 436
        }
      },
      "execution_count": null,
      "outputs": [
        {
          "output_type": "stream",
          "name": "stdout",
          "text": [
            "   Math  English  Music  Gym\n",
            "0    90       98     85  100\n",
            "1    80       89     95   90\n",
            "2    70       95    100   90\n",
            "\n",
            "\n",
            "        Math  English  Music  Gym\n",
            "Dujun     90       98     85  100\n",
            "Yoseop    80       89     95   90\n",
            "Light     70       95    100   90\n",
            "\n",
            "\n",
            "\n",
            "\n"
          ]
        },
        {
          "output_type": "error",
          "ename": "NameError",
          "evalue": "name 'interger_position1' is not defined",
          "traceback": [
            "\u001b[0;31m---------------------------------------------------------------------------\u001b[0m",
            "\u001b[0;31mNameError\u001b[0m                                 Traceback (most recent call last)",
            "\u001b[0;32m<ipython-input-19-6a6bd2820b64>\u001b[0m in \u001b[0;36m<cell line: 17>\u001b[0;34m()\u001b[0m\n\u001b[1;32m     15\u001b[0m \u001b[0minteger_position1\u001b[0m \u001b[0;34m=\u001b[0m \u001b[0mdf\u001b[0m\u001b[0;34m.\u001b[0m\u001b[0miloc\u001b[0m\u001b[0;34m[\u001b[0m\u001b[0;36m0\u001b[0m\u001b[0;34m]\u001b[0m\u001b[0;34m\u001b[0m\u001b[0;34m\u001b[0m\u001b[0m\n\u001b[1;32m     16\u001b[0m \u001b[0mprint\u001b[0m\u001b[0;34m(\u001b[0m\u001b[0;34m'\\n'\u001b[0m\u001b[0;34m)\u001b[0m\u001b[0;34m\u001b[0m\u001b[0;34m\u001b[0m\u001b[0m\n\u001b[0;32m---> 17\u001b[0;31m \u001b[0mprint\u001b[0m\u001b[0;34m(\u001b[0m\u001b[0minterger_position1\u001b[0m\u001b[0;34m)\u001b[0m\u001b[0;34m\u001b[0m\u001b[0;34m\u001b[0m\u001b[0m\n\u001b[0m\u001b[1;32m     18\u001b[0m \u001b[0;34m\u001b[0m\u001b[0m\n",
            "\u001b[0;31mNameError\u001b[0m: name 'interger_position1' is not defined"
          ]
        }
      ]
    },
    {
      "cell_type": "code",
      "source": [
        "#@markdown <font color = 'red'> **🐹 Student Activity 5 ⤵️**\n",
        "\n",
        "#@markdown <font color = 'blue'> **Choose a row 행 선택**\n",
        "\n",
        "#@markdown <font color = 'blue'> **loc[] & iloc[]**\n",
        "\n",
        "import pandas as pd\n",
        "\n",
        "exam_data = {'Math':[90, 80, 70], 'English':[98, 89, 95],\n",
        "             'Music':[85, 95, 100], 'Gym':[100,90,90]}\n",
        "\n",
        "df = pd.DataFrame(exam_data, index = ['Simon', 'Emma', 'Mary'])\n",
        "\n",
        "print(df)\n",
        "print('\\n')\n",
        "\n",
        "\n",
        "#Data display is trasversed when one element is in loc[].\n",
        "label1 = df.loc['Simon']\n",
        "print(label1)\n",
        "print('\\n')\n",
        "\n",
        "#Data display is trasversed when one element is in loc[].\n",
        "position1 = df.iloc[0]\n",
        "print(position1)\n"
      ],
      "metadata": {
        "id": "gyoTZY2KHtuZ",
        "outputId": "52145984-bd0a-460e-8bcd-09980de25bb3",
        "colab": {
          "base_uri": "https://localhost:8080/"
        }
      },
      "execution_count": null,
      "outputs": [
        {
          "output_type": "stream",
          "name": "stdout",
          "text": [
            "       Math  English  Music  Gym\n",
            "Simon    90       98     85  100\n",
            "Emma     80       89     95   90\n",
            "Mary     70       95    100   90\n",
            "\n",
            "\n",
            "Math        90\n",
            "English     98\n",
            "Music       85\n",
            "Gym        100\n",
            "Name: Simon, dtype: int64\n",
            "\n",
            "\n",
            "Math        90\n",
            "English     98\n",
            "Music       85\n",
            "Gym        100\n",
            "Name: Simon, dtype: int64\n"
          ]
        }
      ]
    },
    {
      "cell_type": "code",
      "source": [
        "import pandas as pd\n",
        "exam_data = {'Math':[90, 80, 70, 85], 'English':[98, 89, 95, 79],\n",
        "             'Music':[85, 95, 100, 100], 'Gym':[100,90,90, 88]}\n",
        "df = pd.DataFrame(exam_data, index = ['Dujun', 'Yoseop', 'Gikwang', 'Dongwoon'])\n",
        "\n",
        "print(df)\n",
        "print('\\n')\n",
        "\n",
        "label2 = df.loc[['Dujun', 'Yoseop']]\n",
        "print(label2)\n",
        "print('\\n')\n",
        "\n",
        "df2 = pd.DataFrame(exam_data)\n",
        "print(df2)\n",
        "print('\\n')\n",
        "label3 = df.iloc[[0, 2]]\n",
        "print(label3)\n",
        "print('\\n')"
      ],
      "metadata": {
        "id": "qLyntKyKZ9V0",
        "outputId": "5e149406-3730-4cd6-c66e-6f644408bc2b",
        "colab": {
          "base_uri": "https://localhost:8080/"
        }
      },
      "execution_count": null,
      "outputs": [
        {
          "output_type": "stream",
          "name": "stdout",
          "text": [
            "          Math  English  Music  Gym\n",
            "Dujun       90       98     85  100\n",
            "Yoseop      80       89     95   90\n",
            "Gikwang     70       95    100   90\n",
            "Dongwoon    85       79    100   88\n",
            "\n",
            "\n",
            "        Math  English  Music  Gym\n",
            "Dujun     90       98     85  100\n",
            "Yoseop    80       89     95   90\n",
            "\n",
            "\n",
            "   Math  English  Music  Gym\n",
            "0    90       98     85  100\n",
            "1    80       89     95   90\n",
            "2    70       95    100   90\n",
            "3    85       79    100   88\n",
            "\n",
            "\n",
            "         Math  English  Music  Gym\n",
            "Dujun      90       98     85  100\n",
            "Gikwang    70       95    100   90\n",
            "\n",
            "\n"
          ]
        }
      ]
    },
    {
      "cell_type": "code",
      "source": [
        "import pandas as pd\n",
        "\n",
        "exam_data = {'Math':[90, 80, 70, 85], 'English':[98, 89, 95, 79],\n",
        "             'Music':[85, 95, 100, 100], 'Gym':[100,90,90, 88]}\n",
        "\n",
        "df = pd.DataFrame(exam_data, index = ['Simon', 'Emma', 'Mary', 'Louis'])\n",
        "\n",
        "print(df)\n",
        "print('\\n')\n",
        "\n",
        "location2 = df.lioc[[0,1]]\n",
        "print(location2)\n",
        "print('\\n')\n",
        "\n",
        "location3 = df.lioc[[1,2,3]]\n",
        "print(location3)\n",
        "\n",
        "location4 = df.lioc[[1,3]]\n",
        "print(location4)\n"
      ],
      "metadata": {
        "id": "TqoNifSzAYY-"
      },
      "execution_count": null,
      "outputs": []
    },
    {
      "cell_type": "code",
      "source": [
        "#@markdown <font color = 'red'> **🐹 Student Activity 6 ⤵️**\n",
        "\n",
        "#@markdown <font color = 'blue'> **Choose rows 복수행 선택**\n",
        "\n",
        "#@markdown <font color = 'blue'> **loc[[]] & iloc[[]]**\n",
        "\n",
        "import pandas as pd\n",
        "\n",
        "exam_data = {'Math':[90, 80, 70, 85], 'English':[98, 89, 95, 79],\n",
        "             'Music':[85, 95, 100, 100], 'Gym':[100,90,90, 88]}\n",
        "\n",
        "df = pd.DataFrame(exam_data, index = ['Simon', 'Emma', 'Mary', 'Louis'])\n",
        "\n",
        "print(df)\n",
        "print('\\n')\n",
        "\n",
        "#Choose rows 복수행 선택\n",
        "label2 = df.loc[['Simon', 'Mary']]\n",
        "print(label2)\n",
        "print('\\n')\n",
        "\n",
        "#Choose a row, resulting in its corresponding columns trasversed.\n",
        "position1 = df.iloc[0]\n",
        "print(position1)\n",
        "print('\\n')\n",
        "\n",
        "#Choose rows 복수행 선택 (index number 0 & index number 2)\n",
        "position2 = df.iloc[[0,2]]\n",
        "print(position2)\n",
        "print('\\n')\n",
        "\n",
        "#Choose rows 복수행 선택 (index number 0, index number 2, & index number 2)\n",
        "position3 = df.iloc[[0,1,2]]\n",
        "print(position3)\n",
        "print('\\n')"
      ],
      "metadata": {
        "id": "wd4ZkSmkJlLk",
        "outputId": "ad04e667-3cdc-4d86-8c84-de2efc05a568",
        "colab": {
          "base_uri": "https://localhost:8080/"
        }
      },
      "execution_count": null,
      "outputs": [
        {
          "output_type": "stream",
          "name": "stdout",
          "text": [
            "       Math  English  Music  Gym\n",
            "Simon    90       98     85  100\n",
            "Emma     80       89     95   90\n",
            "Mary     70       95    100   90\n",
            "Louis    85       79    100   88\n",
            "\n",
            "\n",
            "       Math  English  Music  Gym\n",
            "Simon    90       98     85  100\n",
            "Mary     70       95    100   90\n",
            "\n",
            "\n",
            "Math        90\n",
            "English     98\n",
            "Music       85\n",
            "Gym        100\n",
            "Name: Simon, dtype: int64\n",
            "\n",
            "\n",
            "       Math  English  Music  Gym\n",
            "Simon    90       98     85  100\n",
            "Mary     70       95    100   90\n",
            "\n",
            "\n",
            "       Math  English  Music  Gym\n",
            "Simon    90       98     85  100\n",
            "Emma     80       89     95   90\n",
            "Mary     70       95    100   90\n",
            "\n",
            "\n"
          ]
        }
      ]
    },
    {
      "cell_type": "code",
      "source": [
        "import pandas as pd\n",
        "\n",
        "exam_data = {'Math':[90, 80, 70, 85], 'English':[98, 89, 95, 79],\n",
        "             'Music':[85, 95, 100, 100], 'Gym':[100,90,90, 88]}\n",
        "\n",
        "df = pd.DataFrame(exam_data, index = ['Simon', 'Emma', 'Mary', 'Louis'])\n",
        "print(df)\n",
        "print('\\n')\n",
        "\n",
        "label3 = df.loc['Simon':'Emma']\n",
        "print(label3)\n",
        "print('\\n')\n",
        "\n",
        "location3 = df.iloc[0:2]\n",
        "print(location3)\n",
        "print('\\n')\n",
        "\n"
      ],
      "metadata": {
        "id": "-2axtt6QB8s7",
        "outputId": "5d6b2f17-cdaa-4222-ac08-844d238483be",
        "colab": {
          "base_uri": "https://localhost:8080/"
        }
      },
      "execution_count": 4,
      "outputs": [
        {
          "output_type": "stream",
          "name": "stdout",
          "text": [
            "       Math  English  Music  Gym\n",
            "Simon    90       98     85  100\n",
            "Emma     80       89     95   90\n",
            "Mary     70       95    100   90\n",
            "Louis    85       79    100   88\n",
            "\n",
            "\n",
            "       Math  English  Music  Gym\n",
            "Simon    90       98     85  100\n",
            "Emma     80       89     95   90\n",
            "\n",
            "\n",
            "       Math  English  Music  Gym\n",
            "Simon    90       98     85  100\n",
            "Emma     80       89     95   90\n",
            "\n",
            "\n"
          ]
        }
      ]
    },
    {
      "cell_type": "code",
      "source": [
        "#@markdown <font color = 'red'> **🐹 Student Activity 7 ⤵️**\n",
        "\n",
        "#@markdown <font color = 'blue'> **Select rows using the colon symbol 콜른 사용하여 복수행 선택**\n",
        "\n",
        "#@markdown <font color = 'blue'> **loc[[]] & iloc[[]]**\n",
        "\n",
        "import pandas as pd\n",
        "\n",
        "exam_data = {'Math':[90, 80, 70, 85], 'English':[98, 89, 95, 79],\n",
        "             'Music':[85, 95, 100, 100], 'Gym':[100,90,90, 88]}\n",
        "\n",
        "df = pd.DataFrame(exam_data, index = ['Simon', 'Emma', 'Mary', 'Louis'])\n",
        "\n",
        "print(df)\n",
        "print('\\n')\n",
        "\n",
        "label3 = df.loc['Simon':'Emma']\n",
        "print(label3)\n",
        "print('\\n')\n",
        "\n",
        "#The last index number is excluded.\n",
        "location4 = df.iloc[0:2]\n",
        "print(location4)"
      ],
      "metadata": {
        "id": "wgsiKE2pK9To",
        "outputId": "54fbc09f-17f0-4389-d6e2-ca0c22d7e741",
        "colab": {
          "base_uri": "https://localhost:8080/"
        }
      },
      "execution_count": null,
      "outputs": [
        {
          "output_type": "stream",
          "name": "stdout",
          "text": [
            "       Math  English  Music  Gym\n",
            "Simon    90       98     85  100\n",
            "Emma     80       89     95   90\n",
            "Mary     70       95    100   90\n",
            "Louis    85       79    100   88\n",
            "\n",
            "\n",
            "       Math  English  Music  Gym\n",
            "Simon    90       98     85  100\n",
            "Emma     80       89     95   90\n",
            "\n",
            "\n",
            "       Math  English  Music  Gym\n",
            "Simon    90       98     85  100\n",
            "Emma     80       89     95   90\n"
          ]
        }
      ]
    },
    {
      "cell_type": "code",
      "source": [
        "import pandas as pd\n",
        "\n",
        "exam_data = {'Math':[90, 80, 70, 85], 'English':[98, 89, 95, 79],\n",
        "             'Music':[85, 95, 100, 100], 'Gym':[100,90,90, 88]}\n",
        "\n",
        "df = pd.DataFrame(exam_data, index = ['Simon', 'Emma', 'Mary', 'Louis'])\n",
        "\n",
        "print(df)\n",
        "print('\\n')\n",
        "\n",
        "math1 = df['Math']\n",
        "print(math1)\n",
        "print('\\n')\n",
        "print(type(math1))\n",
        "\n",
        "english1 = df['English']\n",
        "print(english1)\n",
        "print('\\n')\n",
        "print(type(english1))\n",
        "\n",
        "music1 = df['Music']\n",
        "print(music1)\n",
        "print('\\n')\n",
        "print(type(music1))\n",
        "\n",
        "gym1 = df['Gym']\n",
        "print(gym1)\n",
        "print('\\n')\n",
        "print(type(gym1))"
      ],
      "metadata": {
        "id": "enFScmA4Dtz8",
        "outputId": "8867309e-3238-4cf6-e00a-9bb3f360c959",
        "colab": {
          "base_uri": "https://localhost:8080/"
        }
      },
      "execution_count": 5,
      "outputs": [
        {
          "output_type": "stream",
          "name": "stdout",
          "text": [
            "       Math  English  Music  Gym\n",
            "Simon    90       98     85  100\n",
            "Emma     80       89     95   90\n",
            "Mary     70       95    100   90\n",
            "Louis    85       79    100   88\n",
            "\n",
            "\n",
            "Simon    90\n",
            "Emma     80\n",
            "Mary     70\n",
            "Louis    85\n",
            "Name: Math, dtype: int64\n",
            "\n",
            "\n",
            "<class 'pandas.core.series.Series'>\n",
            "Simon    98\n",
            "Emma     89\n",
            "Mary     95\n",
            "Louis    79\n",
            "Name: English, dtype: int64\n",
            "\n",
            "\n",
            "<class 'pandas.core.series.Series'>\n",
            "Simon     85\n",
            "Emma      95\n",
            "Mary     100\n",
            "Louis    100\n",
            "Name: Music, dtype: int64\n",
            "\n",
            "\n",
            "<class 'pandas.core.series.Series'>\n",
            "Simon    100\n",
            "Emma      90\n",
            "Mary      90\n",
            "Louis     88\n",
            "Name: Gym, dtype: int64\n",
            "\n",
            "\n",
            "<class 'pandas.core.series.Series'>\n"
          ]
        }
      ]
    },
    {
      "cell_type": "code",
      "source": [
        "#@markdown <font color = 'red'> **🐹 Student Activity 8 ⤵️**\n",
        "\n",
        "#@markdown <font color = 'blue'> **Select a column 열 선택**\n",
        "\n",
        "#@markdown <font color = 'blue'> **column name[ ]**\n",
        "\n",
        "import pandas as pd\n",
        "\n",
        "exam_data = {'Math':[90, 80, 70, 85], 'English':[98, 89, 95, 79],\n",
        "             'Music':[85, 95, 100, 100], 'Gym':[100,90,90, 88]}\n",
        "\n",
        "df = pd.DataFrame(exam_data, index = ['Simon', 'Emma', 'Mary', 'Louis'])\n",
        "\n",
        "print(df)\n",
        "print('\\n')\n",
        "\n",
        "math1 = df['Math']\n",
        "print(math1)\n",
        "print('\\n')\n",
        "print(type(math1))\n",
        "\n",
        "english1 = df['English']\n",
        "print(english1)\n",
        "print('\\n')\n",
        "print(type(english1))\n",
        "\n",
        "gym1 = df['Gym']\n",
        "print(gym1)\n",
        "print('\\n')\n",
        "print(type(gym1))"
      ],
      "metadata": {
        "id": "1ElBWe4XMLQN",
        "outputId": "536ab4ec-b60e-4097-969b-09aa4209f61b",
        "colab": {
          "base_uri": "https://localhost:8080/"
        }
      },
      "execution_count": null,
      "outputs": [
        {
          "output_type": "stream",
          "name": "stdout",
          "text": [
            "       Math  English  Music  Gym\n",
            "Simon    90       98     85  100\n",
            "Emma     80       89     95   90\n",
            "Mary     70       95    100   90\n",
            "Louis    85       79    100   88\n",
            "\n",
            "\n",
            "Simon    90\n",
            "Emma     80\n",
            "Mary     70\n",
            "Louis    85\n",
            "Name: Math, dtype: int64\n",
            "\n",
            "\n",
            "<class 'pandas.core.series.Series'>\n",
            "Simon    98\n",
            "Emma     89\n",
            "Mary     95\n",
            "Louis    79\n",
            "Name: English, dtype: int64\n",
            "\n",
            "\n",
            "<class 'pandas.core.series.Series'>\n",
            "Simon    100\n",
            "Emma      90\n",
            "Mary      90\n",
            "Louis     88\n",
            "Name: Gym, dtype: int64\n",
            "\n",
            "\n",
            "<class 'pandas.core.series.Series'>\n"
          ]
        }
      ]
    },
    {
      "cell_type": "code",
      "source": [
        "import pandas as pd\n",
        "\n",
        "exam_data = {'Math':[90, 80, 70, 85], 'English':[98, 89, 95, 79],\n",
        "             'Music':[85, 95, 100, 100], 'Gym':[100,90,90, 88]}\n",
        "\n",
        "df = pd.DataFrame(exam_data, index = ['Simon', 'Emma', 'Mary', 'Louis'])\n",
        "\n",
        "print(df)\n",
        "print('\\n')\n",
        "\n",
        "eng_gym = df[['English','Gym']]\n",
        "print(eng_gym)\n",
        "print('\\n')\n",
        "print(type(eng_gym))\n",
        "\n",
        "three_subj = df[['English','Music','Gym']]\n",
        "print(three_subj)\n",
        "print('\\n')\n",
        "print(type(three_subj))"
      ],
      "metadata": {
        "id": "PDLFBhXIFvkK"
      },
      "execution_count": null,
      "outputs": []
    },
    {
      "cell_type": "code",
      "source": [
        "import pandas as pd\n",
        "\n",
        "exam_data = {'Math':[100, 100, 100, 100, 50], 'English':[100, 100, 100, 100, 100],\n",
        "             'Music':[100, 100, 100, 100, 100], 'Gym':[100, 100, 100, 100, 50], 'Social':[100, 100 , 100, 100, 100]}\n",
        "\n",
        "df = pd.DataFrame(exam_data, index = ['Dujun', 'Yoseop', 'Gikwang', 'Dongwoon', 'Light'])\n",
        "\n",
        "print(df)\n",
        "print('\\n')\n",
        "\n",
        "mus_gym= df[['Music', 'Gym']]\n",
        "print(mus_gym)\n",
        "print('\\n')\n",
        "print(type(mus_gym))\n",
        "\n",
        "three_subj = df[['Music', 'Gym', 'English']]\n",
        "print(three_subj)\n",
        "print('\\n')\n",
        "print(type(three_subj))"
      ],
      "metadata": {
        "id": "nOjFWqQgHlqV",
        "outputId": "112aefd2-4c09-4e04-daf1-2fb025259a28",
        "colab": {
          "base_uri": "https://localhost:8080/"
        }
      },
      "execution_count": 8,
      "outputs": [
        {
          "output_type": "stream",
          "name": "stdout",
          "text": [
            "          Math  English  Music  Gym  Social\n",
            "Dujun      100      100    100  100     100\n",
            "Yoseop     100      100    100  100     100\n",
            "Kikwang    100      100    100  100     100\n",
            "Dongwoon   100      100    100  100     100\n",
            "Light       50      100    100   50     100\n",
            "\n",
            "\n",
            "          Music  Gym\n",
            "Dujun       100  100\n",
            "Yoseop      100  100\n",
            "Kikwang     100  100\n",
            "Dongwoon    100  100\n",
            "Light       100   50\n",
            "\n",
            "\n",
            "<class 'pandas.core.frame.DataFrame'>\n",
            "          Music  Gym  English\n",
            "Dujun       100  100      100\n",
            "Yoseop      100  100      100\n",
            "Kikwang     100  100      100\n",
            "Dongwoon    100  100      100\n",
            "Light       100   50      100\n",
            "\n",
            "\n",
            "<class 'pandas.core.frame.DataFrame'>\n"
          ]
        }
      ]
    },
    {
      "cell_type": "code",
      "source": [
        "import pandas as pd\n",
        "student1 = df.series(['literature':100, 'English':100, 'Math':50])\n",
        "print(student1)"
      ],
      "metadata": {
        "id": "HrVRuhOgKn96"
      },
      "execution_count": null,
      "outputs": []
    },
    {
      "cell_type": "code",
      "source": [
        "#@markdown <font color = 'red'> **🐹 Student Activity 8 ⤵️**\n",
        "\n",
        "#@markdown <font color = 'blue'> **Select columns 복수열 선택**\n",
        "\n",
        "#@markdown <font color = 'blue'> **column name[[]]**\n",
        "\n",
        "import pandas as pd\n",
        "\n",
        "exam_data = {'Math':[90, 80, 70, 85], 'English':[98, 89, 95, 79],\n",
        "             'Music':[85, 95, 100, 100], 'Gym':[100,90,90, 88]}\n",
        "\n",
        "df = pd.DataFrame(exam_data, index = ['Simon', 'Emma', 'Mary', 'Louis'])\n",
        "\n",
        "print(df)\n",
        "print('\\n')\n",
        "\n",
        "#💣Remember to use two sets of squared brackets!\n",
        "eng_gym = df[['English','Gym']]\n",
        "print(eng_gym)\n",
        "print('\\n')\n",
        "print(type(eng_gym))\n",
        "\n",
        "#💣Remember to use two sets of squared brackets!\n",
        "three_subj = df[['English','Music','Gym']]\n",
        "print(three_subj)\n",
        "print('\\n')\n",
        "print(type(three_subj))"
      ],
      "metadata": {
        "id": "i6JeRsBhN-H1",
        "outputId": "030c118a-ef4b-48e7-ac0a-83f5047f55b8",
        "colab": {
          "base_uri": "https://localhost:8080/"
        }
      },
      "execution_count": null,
      "outputs": [
        {
          "output_type": "stream",
          "name": "stdout",
          "text": [
            "       Math  English  Music  Gym\n",
            "Simon    90       98     85  100\n",
            "Emma     80       89     95   90\n",
            "Mary     70       95    100   90\n",
            "Louis    85       79    100   88\n",
            "\n",
            "\n",
            "       English  Gym\n",
            "Simon       98  100\n",
            "Emma        89   90\n",
            "Mary        95   90\n",
            "Louis       79   88\n",
            "\n",
            "\n",
            "<class 'pandas.core.frame.DataFrame'>\n",
            "       English  Music  Gym\n",
            "Simon       98     85  100\n",
            "Emma        89     95   90\n",
            "Mary        95    100   90\n",
            "Louis       79    100   88\n",
            "\n",
            "\n",
            "<class 'pandas.core.frame.DataFrame'>\n"
          ]
        }
      ]
    }
  ]
}